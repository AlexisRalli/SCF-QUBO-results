{
 "cells": [
  {
   "cell_type": "code",
   "execution_count": 12,
   "metadata": {},
   "outputs": [],
   "source": [
    "from pyscf import gto, scf, lo\n",
    "import numpy as np\n",
    "from pyscf.lo import orth"
   ]
  },
  {
   "cell_type": "code",
   "execution_count": 20,
   "metadata": {},
   "outputs": [
    {
     "data": {
      "text/plain": [
       "'C1'"
      ]
     },
     "execution_count": 20,
     "metadata": {},
     "output_type": "execute_result"
    }
   ],
   "source": []
  },
  {
   "cell_type": "code",
   "execution_count": 19,
   "metadata": {},
   "outputs": [
    {
     "name": "stdout",
     "output_type": "stream",
     "text": [
      "init minao\n",
      "\n",
      "\n",
      "******** <class 'pyscf.scf.hf.RHF'> ********\n",
      "method = RHF\n",
      "initial guess = minao\n",
      "damping factor = 0\n",
      "level_shift factor = 0\n",
      "DIIS = <class 'pyscf.scf.diis.CDIIS'>\n",
      "diis_start_cycle = 1\n",
      "diis_space = 8\n",
      "diis_damp = 0\n",
      "SCF conv_tol = 1e-09\n",
      "SCF conv_tol_grad = None\n",
      "SCF max_cycles = 50\n",
      "direct_scf = True\n",
      "direct_scf_tol = 1e-13\n",
      "chkfile to save SCF result = /var/folders/cr/lt00fp0j353b4t_4p9h1rww00000gn/T/tmp1upuqe0q\n",
      "max_memory 4000 MB (current use 0 MB)\n",
      "Set gradient conv threshold to 3.16228e-05\n",
      "Initial guess from minao.\n",
      "init E= -74.5704279355542\n",
      "  HOMO = -0.388980986134328  LUMO = -0.17574079638052\n",
      "cycle= 1 E= -74.3062767997262  delta_E= 0.264  |g|= 1.18  |ddm|= 0.982\n",
      "\n",
      "WARN: HOMO 0.506981542616839 == LUMO 0.506981542616839\n",
      "\n",
      "cycle= 2 E= -74.4495198393157  delta_E= -0.143  |g|= 1.66  |ddm|= 2.15\n",
      "  HOMO = 0.0452936304467592  LUMO = 0.231549690196385\n",
      "cycle= 3 E= -74.9497717733394  delta_E= -0.5  |g|= 0.734  |ddm|= 0.787\n",
      "  HOMO = 0.0355355398715176  LUMO = 0.198629284383271\n",
      "cycle= 4 E= -75.063265753253  delta_E= -0.113  |g|= 0.204  |ddm|= 0.456\n",
      "  HOMO = 0.0588331480224466  LUMO = 0.177842734293013\n",
      "cycle= 5 E= -75.0730005229882  delta_E= -0.00973  |g|= 0.00234  |ddm|= 0.181\n",
      "  HOMO = 0.0594953133899721  LUMO = 0.179969176138917\n",
      "cycle= 6 E= -75.0730022643709  delta_E= -1.74e-06  |g|= 0.000229  |ddm|= 0.00296\n",
      "  HOMO = 0.0594745073862196  LUMO = 0.179812742569204\n",
      "cycle= 7 E= -75.0730022813473  delta_E= -1.7e-08  |g|= 4.41e-05  |ddm|= 0.000292\n",
      "  HOMO = 0.0594689452081234  LUMO = 0.179837622016322\n",
      "cycle= 8 E= -75.0730022819137  delta_E= -5.66e-10  |g|= 5.22e-06  |ddm|= 4.92e-05\n",
      "  HOMO = 0.0594688173515055  LUMO = 0.179836895134507\n",
      "Extra cycle  E= -75.0730022819224  delta_E= -8.63e-12  |g|= 1.7e-06  |ddm|= 5.1e-06\n",
      "converged SCF energy = -75.0730022819224\n",
      "rhf_internal: lowest eigs of H = [-2.41635237e-01  5.20539156e-09  3.26404026e-03]\n",
      "<class 'pyscf.scf.hf.RHF'> wavefunction has an internal instability\n",
      "internally stable method 1: False, -75.07300228192237\n"
     ]
    }
   ],
   "source": [
    "geom = [('O', 0,0,0),\n",
    "        ('H', 0,0,3.0),\n",
    "        ]\n",
    "charge=-1\n",
    "basis = '6-31G'\n",
    "\n",
    "\n",
    "mol = gto.M(\n",
    "    atom = geom,\n",
    "    charge=charge,\n",
    "    basis = basis,\n",
    "    unit='A',\n",
    ")\n",
    "hf_obj = scf.RHF(mol)\n",
    "hf_obj.verbose = 4\n",
    "\n",
    "print('init', hf_obj.init_guess)\n",
    "\n",
    "hf_obj.kernel()\n",
    "\n",
    "mo_i, mo_e, stable_i, stable_e = hf_obj.stability(return_status=True)\n",
    "print(f'internally stable method 1: {stable_i}, {hf_obj.e_tot}')"
   ]
  },
  {
   "cell_type": "code",
   "execution_count": 22,
   "metadata": {},
   "outputs": [
    {
     "data": {
      "text/plain": [
       "False"
      ]
     },
     "execution_count": 22,
     "metadata": {},
     "output_type": "execute_result"
    }
   ],
   "source": [
    "mol.symmetry"
   ]
  },
  {
   "cell_type": "code",
   "execution_count": 14,
   "metadata": {},
   "outputs": [
    {
     "data": {
      "text/plain": [
       "False"
      ]
     },
     "execution_count": 14,
     "metadata": {},
     "output_type": "execute_result"
    }
   ],
   "source": [
    "hf_obj.verbose=0\n",
    "\n",
    "max_iter = 50\n",
    "for _ in range(max_iter):\n",
    "    if stable_i is True:\n",
    "        break\n",
    "    occ = hf_obj.get_occ(mo_energy=mo_e, mo_coeff=mo_i)\n",
    "    hf_obj.kernel(mo_coeff=mo_i, mo_occ=occ)\n",
    "    mo_i, mo_e, stable_i, stable_e = hf_obj.stability(return_status=True)\n",
    "stable_i\n"
   ]
  },
  {
   "cell_type": "markdown",
   "metadata": {},
   "source": [
    "## newton approach"
   ]
  },
  {
   "cell_type": "code",
   "execution_count": 15,
   "metadata": {},
   "outputs": [
    {
     "name": "stdout",
     "output_type": "stream",
     "text": [
      "\n",
      "\n",
      "\n",
      "\n",
      "******** <class 'pyscf.soscf.newton_ah.SecondOrderRHF'> ********\n",
      "method = SecondOrderRHF\n",
      "initial guess = minao\n",
      "damping factor = 0\n",
      "level_shift factor = 0\n",
      "DIIS = <class 'pyscf.scf.diis.CDIIS'>\n",
      "diis_start_cycle = 1\n",
      "diis_space = 8\n",
      "diis_damp = 0\n",
      "SCF conv_tol = 1e-09\n",
      "SCF conv_tol_grad = None\n",
      "SCF max_cycles = 10000\n",
      "direct_scf = True\n",
      "direct_scf_tol = 1e-13\n",
      "chkfile to save SCF result = /var/folders/cr/lt00fp0j353b4t_4p9h1rww00000gn/T/tmp1var24gh\n",
      "max_memory 4000 MB (current use 0 MB)\n",
      "******** <class 'pyscf.scf.hf.RHF'> Newton solver flags ********\n",
      "SCF tol = 1e-09\n",
      "conv_tol_grad = None\n",
      "max. SCF cycles = 10000\n",
      "direct_scf = True\n",
      "direct_scf_tol = 1e-13\n",
      "chkfile to save SCF result = /var/folders/cr/lt00fp0j353b4t_4p9h1rww00000gn/T/tmp1var24gh\n",
      "max_cycle_inner = 12\n",
      "max_stepsize = 0.05\n",
      "ah_start_tol = 1e+09\n",
      "ah_level_shift = 0\n",
      "ah_conv_tol = 1e-12\n",
      "ah_lindep = 1e-14\n",
      "ah_start_cycle = 1\n",
      "ah_max_cycle = 40\n",
      "ah_grad_trust_region = 2.5\n",
      "kf_interval = 4\n",
      "kf_trust_region = 5\n",
      "canonicalization = True\n",
      "max_memory 4000 MB (current use 0 MB)\n",
      "Set conv_tol_grad to 3.16228e-05\n",
      "Initial guess from minao.\n",
      "  HOMO = -0.388980986134328  LUMO = -0.17574079638052\n",
      "Initial guess E= -74.3062767997262  |g|= 1.17957\n",
      "macro= 0  E= -74.5360303280611  delta_E= -0.229754  |g|= 0.0808692  3 KF 10 JK\n",
      "macro= 1  E= -74.5440265924929  delta_E= -0.00799626  |g|= 0.0209543  3 KF 9 JK\n",
      "macro= 2  E= -74.5441152696295  delta_E= -8.86771e-05  |g|= 2.69352e-05  3 KF 10 JK\n",
      "macro= 3  E= -74.5441152696296  delta_E= -9.9476e-14  |g|= 3.48451e-06  1 KF 2 JK\n",
      "Canonicalize SCF orbitals\n",
      "macro X = 4  E=-74.5441152696296  |g|= 3.48451e-06  total 11 KF 36 JK\n",
      "\n",
      "WARN: HOMO 0.27528338085104936 > LUMO -0.1360574347735709 was found in the canonicalized orbitals.\n",
      "\n",
      "converged SCF energy = -74.5441152696296\n",
      "rhf_internal: lowest eigs of H = [-2.34807512 -2.34064653 -2.34064653]\n",
      "<class 'pyscf.soscf.newton_ah.SecondOrderRHF'> wavefunction has an internal instability\n",
      "internally stable method 2: False, -74.54411526962956\n"
     ]
    }
   ],
   "source": [
    "newton_obj = scf.RHF(mol).newton()\n",
    "newton_obj.verbose=4\n",
    "newton_obj.max_cycle=10_000\n",
    "newton_obj.kernel()\n",
    "\n",
    "mo_i, mo_e, stable_i, stable_e = newton_obj.stability(return_status=True)\n",
    "print(f'internally stable method 2: {stable_i}, {newton_obj.e_tot}')"
   ]
  },
  {
   "cell_type": "code",
   "execution_count": 16,
   "metadata": {},
   "outputs": [
    {
     "name": "stdout",
     "output_type": "stream",
     "text": [
      "\n",
      "WARN: HOMO 0.275283380851049 == LUMO 0.275283380851049\n",
      "\n",
      "\n",
      "\n",
      "\n",
      "\n",
      "******** <class 'pyscf.soscf.newton_ah.SecondOrderRHF'> ********\n",
      "method = SecondOrderRHF\n",
      "initial guess = minao\n",
      "damping factor = 0\n",
      "level_shift factor = 0\n",
      "DIIS = <class 'pyscf.scf.diis.CDIIS'>\n",
      "diis_start_cycle = 1\n",
      "diis_space = 8\n",
      "diis_damp = 0\n",
      "SCF conv_tol = 1e-09\n",
      "SCF conv_tol_grad = None\n",
      "SCF max_cycles = 10000\n",
      "direct_scf = True\n",
      "direct_scf_tol = 1e-13\n",
      "chkfile to save SCF result = /var/folders/cr/lt00fp0j353b4t_4p9h1rww00000gn/T/tmp1var24gh\n",
      "max_memory 4000 MB (current use 0 MB)\n",
      "******** <class 'pyscf.scf.hf.RHF'> Newton solver flags ********\n",
      "SCF tol = 1e-09\n",
      "conv_tol_grad = None\n",
      "max. SCF cycles = 10000\n",
      "direct_scf = True\n",
      "direct_scf_tol = 1e-13\n",
      "chkfile to save SCF result = /var/folders/cr/lt00fp0j353b4t_4p9h1rww00000gn/T/tmp1var24gh\n",
      "max_cycle_inner = 12\n",
      "max_stepsize = 0.05\n",
      "ah_start_tol = 1e+09\n",
      "ah_level_shift = 0\n",
      "ah_conv_tol = 1e-12\n",
      "ah_lindep = 1e-14\n",
      "ah_start_cycle = 1\n",
      "ah_max_cycle = 40\n",
      "ah_grad_trust_region = 2.5\n",
      "kf_interval = 4\n",
      "kf_trust_region = 5\n",
      "canonicalization = True\n",
      "max_memory 4000 MB (current use 0 MB)\n",
      "Set conv_tol_grad to 3.16228e-05\n",
      "  HOMO = -0.0949507774126458  LUMO = 0.118016538591019\n",
      "Initial guess E= -74.7450886269929  |g|= 1.18408\n",
      "macro= 0  E= -75.0730018409124  delta_E= -0.327913  |g|= 0.00705485  4 KF 13 JK\n",
      "macro= 1  E= -75.0730022817582  delta_E= -4.40846e-07  |g|= 4.51279e-05  2 KF 8 JK\n",
      "macro= 2  E= -75.0730022817581  delta_E= 4.26326e-14  |g|= 4.6328e-06  1 KF 2 JK\n",
      "Canonicalize SCF orbitals\n",
      "macro X = 3  E=-75.0730022817581  |g|= 4.6328e-06  total 8 KF 27 JK\n",
      "converged SCF energy = -75.0730022817581\n",
      "rhf_internal: lowest eigs of H = [-2.41636072e-01  1.16548648e-08  3.26407480e-03]\n",
      "<class 'pyscf.soscf.newton_ah.SecondOrderRHF'> wavefunction has an internal instability\n",
      "internally stable method 2: False, -75.07300228175814\n"
     ]
    }
   ],
   "source": [
    "occ = newton_obj.get_occ(mo_energy=mo_e, mo_coeff=mo_i)\n",
    "newton_obj.kernel(mo_coeff=mo_i, mo_occ=occ)\n",
    "mo_i, mo_e, stable_i, stable_e = newton_obj.stability(return_status=True)\n",
    "print(f'internally stable method 2: {stable_i}, {newton_obj.e_tot}')"
   ]
  },
  {
   "cell_type": "code",
   "execution_count": 17,
   "metadata": {},
   "outputs": [
    {
     "name": "stdout",
     "output_type": "stream",
     "text": [
      "  HOMO = 0.0594687325203382  LUMO = 0.179837412277748\n",
      "\n",
      "\n",
      "\n",
      "\n",
      "******** <class 'pyscf.soscf.newton_ah.SecondOrderRHF'> ********\n",
      "method = SecondOrderRHF\n",
      "initial guess = minao\n",
      "damping factor = 0\n",
      "level_shift factor = 0\n",
      "DIIS = <class 'pyscf.scf.diis.CDIIS'>\n",
      "diis_start_cycle = 1\n",
      "diis_space = 8\n",
      "diis_damp = 0\n",
      "SCF conv_tol = 1e-09\n",
      "SCF conv_tol_grad = None\n",
      "SCF max_cycles = 10000\n",
      "direct_scf = True\n",
      "direct_scf_tol = 1e-13\n",
      "chkfile to save SCF result = /var/folders/cr/lt00fp0j353b4t_4p9h1rww00000gn/T/tmp1var24gh\n",
      "max_memory 4000 MB (current use 0 MB)\n",
      "******** <class 'pyscf.scf.hf.RHF'> Newton solver flags ********\n",
      "SCF tol = 1e-09\n",
      "conv_tol_grad = None\n",
      "max. SCF cycles = 10000\n",
      "direct_scf = True\n",
      "direct_scf_tol = 1e-13\n",
      "chkfile to save SCF result = /var/folders/cr/lt00fp0j353b4t_4p9h1rww00000gn/T/tmp1var24gh\n",
      "max_cycle_inner = 12\n",
      "max_stepsize = 0.05\n",
      "ah_start_tol = 1e+09\n",
      "ah_level_shift = 0\n",
      "ah_conv_tol = 1e-12\n",
      "ah_lindep = 1e-14\n",
      "ah_start_cycle = 1\n",
      "ah_max_cycle = 40\n",
      "ah_grad_trust_region = 2.5\n",
      "kf_interval = 4\n",
      "kf_trust_region = 5\n",
      "canonicalization = True\n",
      "max_memory 4000 MB (current use 0 MB)\n",
      "Set conv_tol_grad to 3.16228e-05\n",
      "  HOMO = 0.16457160841817  LUMO = 0.39800757412684\n",
      "Initial guess E= -74.8177215896398  |g|= 0.817848\n",
      "macro= 0  E= -75.0873311601608  delta_E= -0.26961  |g|= 0.226117  3 KF 15 JK\n",
      "macro= 1  E= -75.1071081725905  delta_E= -0.019777  |g|= 0.0542715  3 KF 20 JK\n",
      "macro= 2  E= -75.113279363543  delta_E= -0.00617119  |g|= 0.0107964  3 KF 10 JK\n",
      "macro= 3  E= -75.1133070551273  delta_E= -2.76916e-05  |g|= 0.000388105  2 KF 10 JK\n",
      "macro= 4  E= -75.1133070551273  delta_E= -5.68434e-14  |g|= 1.07701e-05  1 KF 2 JK\n",
      "Canonicalize SCF orbitals\n",
      "macro X = 5  E=-75.1133070551273  |g|= 1.07701e-05  total 13 KF 63 JK\n",
      "converged SCF energy = -75.1133070551273\n",
      "rhf_internal: lowest eigs of H = [0.05608975 0.05608992 0.8019842 ]\n",
      "<class 'pyscf.soscf.newton_ah.SecondOrderRHF'> wavefunction is stable in the internal stability analysis\n",
      "internally stable method 2: True, -75.11330705512732\n"
     ]
    }
   ],
   "source": [
    "occ = newton_obj.get_occ(mo_energy=mo_e, mo_coeff=mo_i)\n",
    "newton_obj.kernel(mo_coeff=mo_i, mo_occ=occ)\n",
    "mo_i, mo_e, stable_i, stable_e = newton_obj.stability(return_status=True)\n",
    "print(f'internally stable method 2: {stable_i}, {newton_obj.e_tot}')"
   ]
  },
  {
   "cell_type": "code",
   "execution_count": null,
   "metadata": {},
   "outputs": [],
   "source": []
  }
 ],
 "metadata": {
  "kernelspec": {
   "display_name": "qmatter3_10",
   "language": "python",
   "name": "python3"
  },
  "language_info": {
   "codemirror_mode": {
    "name": "ipython",
    "version": 3
   },
   "file_extension": ".py",
   "mimetype": "text/x-python",
   "name": "python",
   "nbconvert_exporter": "python",
   "pygments_lexer": "ipython3",
   "version": "3.10.14"
  }
 },
 "nbformat": 4,
 "nbformat_minor": 2
}
