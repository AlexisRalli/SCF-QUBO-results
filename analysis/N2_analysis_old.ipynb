{
 "cells": [
  {
   "cell_type": "code",
   "execution_count": 1,
   "metadata": {},
   "outputs": [],
   "source": [
    "import json\n",
    "import numpy as np\n",
    "import os\n",
    "import matplotlib.pyplot as plt\n",
    "import re"
   ]
  },
  {
   "cell_type": "code",
   "execution_count": 2,
   "metadata": {},
   "outputs": [],
   "source": [
    "plt.rcParams[\"font.family\"] = \"serif\"\n",
    "plt.rcParams[\"font.serif\"] = [\"Times New Roman\"]\n",
    "plt.rcParams['font.size'] = 12"
   ]
  },
  {
   "cell_type": "code",
   "execution_count": 3,
   "metadata": {},
   "outputs": [],
   "source": [
    "cwd = os.getcwd()\n",
    "base_dir = os.path.dirname(cwd)\n",
    "data_dir = os.path.join(base_dir, 'data')\n",
    "\n",
    "classical_chem_dir = os.path.join(data_dir,\n",
    "                                  'N2_data')"
   ]
  },
  {
   "cell_type": "code",
   "execution_count": 4,
   "metadata": {},
   "outputs": [
    {
     "data": {
      "text/plain": [
       "['N2_ccpvdz', 'N2_ccpvqz', 'N2_ccpvtz']"
      ]
     },
     "execution_count": 4,
     "metadata": {},
     "output_type": "execute_result"
    }
   ],
   "source": [
    "subdirs = [f for f in os.listdir(classical_chem_dir) if os.path.isdir(os.path.join(classical_chem_dir,\n",
    "                                                            f)) and f != 'log']\n",
    "subdirs"
   ]
  },
  {
   "cell_type": "code",
   "execution_count": null,
   "metadata": {},
   "outputs": [],
   "source": []
  },
  {
   "cell_type": "code",
   "execution_count": null,
   "metadata": {},
   "outputs": [
    {
     "name": "stdout",
     "output_type": "stream",
     "text": [
      "N2_ccpvdz\n",
      "N2_ccpvqz\n",
      "N2_ccpvtz\n"
     ]
    }
   ],
   "source": [
    "%matplotlib inline\n",
    "\n",
    "for sub in subdirs:\n",
    "    print(sub)\n",
    "    sub_dir = os.path.join(classical_chem_dir,\n",
    "                        sub)\n",
    "\n",
    "\n",
    "\n",
    "    sorted_json = sorted(os.listdir(sub_dir), key=lambda s: int(re.search(r'_(\\d+)\\.json$', s).group(1)))\n",
    "    b_lengths = np.array([int(re.search(r'_(\\d+)\\.json$', fname).group(1))/10 for fname in sorted_json ])\n",
    "\n",
    "    sub_database = {'rhf_e_std_list': list(),\n",
    "                    'rhf_stab_flag_list': list(),\n",
    "                    'rhf_e_newton_list': list(),\n",
    "                    'rhf_newton_flag_list': list(),\n",
    "\n",
    "                    \n",
    "                    }\n",
    "    for opt in ['maxcut', 'SimulatedAnnealing', 'Tabu', 'cplex']:\n",
    "        sub_database[opt]=  {\n",
    "                                'E_opt_list':     list(),\n",
    "                                'rhf_boost_list': list(),\n",
    "                                'S2_list':        list(),\n",
    "                                }\n",
    "\n",
    "    for idx, f_json in enumerate(sorted_json):\n",
    "        json_path = os.path.join(sub_dir, f_json)\n",
    "        with open(json_path, 'r') as infile:\n",
    "            data = json.load(infile)\n",
    "\n",
    "        sub_database['rhf_e_std_list']       = sub_database['rhf_e_std_list']       +  [data['scf_std_energy']]\n",
    "        sub_database['rhf_stab_flag_list']   = sub_database['rhf_stab_flag_list']   +  [data['scf_std_stability']]\n",
    "        sub_database['rhf_e_newton_list']      = sub_database['rhf_e_newton_list']  +  [data['newton_SCF_energy'] ]\n",
    "        sub_database['rhf_newton_flag_list'] = sub_database['rhf_newton_flag_list'] +  [data['newton_SCF_stability'] ]\n",
    "\n",
    "        for opt in ['maxcut', 'SimulatedAnnealing', 'Tabu', 'cplex']:\n",
    "            sub_database[opt]['E_opt_list'] =  sub_database[opt]['E_opt_list'] + [data[opt]['E_opt']]\n",
    "            sub_database[opt]['rhf_boost_list'] =  sub_database[opt]['rhf_boost_list'] + [data[opt]['rhr_boost_e_tot']]\n",
    "            sub_database[opt]['S2_list'] =  sub_database[opt]['S2_list'] + [data[opt]['S2_val']]\n",
    "\n",
    "\n",
    "    ### PLOTTING \n",
    "    fig, ax_tuple = plt.subplots(2, 1, sharex=True, dpi=300)\n",
    "\n",
    "    ##### NOTE THIS CHOOSES WHETHER FINAL SCF OPT HAS BEEN DONE <-----------------------------\n",
    "    CHOSEN_str = 'rhf_boost_list'\n",
    "    # CHOSEN_str = 'E_opt_list'\n",
    "\n",
    "\n",
    "    newton = np.array(sub_database['rhf_e_newton_list'])\n",
    "    for idx, diff_vec in enumerate([np.zeros(len(newton)),newton ]):\n",
    "\n",
    "        ax = ax_tuple[idx]\n",
    "\n",
    "        if idx ==0:\n",
    "            ax.plot(b_lengths, sub_database['rhf_e_newton_list'], label='SO-RHF',\n",
    "                marker='2', markersize=9, linestyle='-', linewidth=0.7, color='k') \n",
    "\n",
    "        ax.plot(b_lengths, np.array(sub_database['cplex'][CHOSEN_str])-diff_vec, label='CPLEX',\n",
    "                marker='^', markersize=6, linestyle='-', linewidth=0.7, color='g') \n",
    "\n",
    "        ax.plot(b_lengths, np.array(sub_database['Tabu'][CHOSEN_str])-diff_vec, label='Tabu',\n",
    "                marker='H', markersize=6, linestyle='-', linewidth=0.7, color='lightblue') \n",
    "\n",
    "        ax.plot(b_lengths, np.array(sub_database['rhf_e_std_list']) - diff_vec, label='RHF',\n",
    "                    marker='.', markersize=10, linestyle='-', linewidth=0.7, color='lightcoral') \n",
    "\n",
    "        ax.plot(b_lengths, np.array(sub_database['maxcut'][CHOSEN_str])-diff_vec, label='MaxCut',\n",
    "                marker='1', markersize=6, linestyle='-', linewidth=0.7, color='orange') \n",
    "\n",
    "\n",
    "        ax.plot(b_lengths, np.array(sub_database['SimulatedAnnealing'][CHOSEN_str])-diff_vec, label='annealing',\n",
    "                marker='x', markersize=6, linestyle='-', linewidth=0.7, color='purple') \n",
    "\n",
    "\n",
    "    ax_tuple[0].set_ylabel(r'Energy (Ha)')\n",
    "    ax_tuple[1].set_ylabel(r'Energy Difference (Ha)')\n",
    "    ax_tuple[1].set_xlabel(r'Bond length (Å)')\n",
    "\n",
    "    ax_tuple[1].set_yscale('symlog', linthresh=1e-6)\n",
    "\n",
    "    ax_tuple[0].legend(loc='upper center', bbox_to_anchor=(0.73, 0.5),fancybox=False, shadow=False, ncol=2)\n",
    "\n",
    "\n",
    "    plt.tight_layout()\n",
    "    # fig.savefig(f'N2_{sub}_old.png', dpi=300)\n",
    "\n",
    "del data"
   ]
  },
  {
   "cell_type": "code",
   "execution_count": null,
   "metadata": {},
   "outputs": [],
   "source": []
  },
  {
   "cell_type": "markdown",
   "metadata": {},
   "source": [
    "# Access subdata"
   ]
  },
  {
   "cell_type": "code",
   "execution_count": 19,
   "metadata": {},
   "outputs": [
    {
     "data": {
      "text/plain": [
       "'N2_ccpvdz'"
      ]
     },
     "execution_count": 19,
     "metadata": {},
     "output_type": "execute_result"
    }
   ],
   "source": [
    "sub_index = 0 ## choose [0,1,2]\n",
    "sub = subdirs[sub_index]\n",
    "sub"
   ]
  },
  {
   "cell_type": "code",
   "execution_count": 20,
   "metadata": {},
   "outputs": [],
   "source": [
    "sub_dir = os.path.join(classical_chem_dir,\n",
    "                       sub)\n",
    "\n",
    "sorted_json = sorted(os.listdir(sub_dir), key=lambda s: int(re.search(r'_(\\d+)\\.json$', s).group(1)))\n",
    "b_lengths = np.array([int(re.search(r'_(\\d+)\\.json$', fname).group(1))/10 for fname in sorted_json ])"
   ]
  },
  {
   "cell_type": "code",
   "execution_count": 24,
   "metadata": {},
   "outputs": [
    {
     "name": "stdout",
     "output_type": "stream",
     "text": [
      "choose index between 0 and 11\n",
      "bond length chosen: 0.8 Angstrom\n"
     ]
    }
   ],
   "source": [
    "print(f'choose index between 0 and {len(sorted_json)-1}')\n",
    "json_index = 0\n",
    "\n",
    "json_path = os.path.join(sub_dir, sorted_json[json_index])\n",
    "with open(json_path, 'r') as infile:\n",
    "    data = json.load(infile)\n",
    "\n",
    "print('bond length chosen:', b_lengths[json_index], 'Angstrom')"
   ]
  },
  {
   "cell_type": "code",
   "execution_count": 25,
   "metadata": {},
   "outputs": [
    {
     "data": {
      "text/plain": [
       "['nao',\n",
       " 'maxcut',\n",
       " 'SimulatedAnnealing',\n",
       " 'Tabu',\n",
       " 'cplex',\n",
       " 'scf_std_stability',\n",
       " 'scf_std_energy',\n",
       " 'scf_std_C_mat',\n",
       " 'scf_std_mo_occ',\n",
       " 'newton_SCF_iter',\n",
       " 'newton_SCF_stability',\n",
       " 'newton_SCF_energy',\n",
       " 'newton_C_mat',\n",
       " 'newton_rdm1']"
      ]
     },
     "execution_count": 25,
     "metadata": {},
     "output_type": "execute_result"
    }
   ],
   "source": [
    "list(data.keys())"
   ]
  },
  {
   "cell_type": "code",
   "execution_count": 11,
   "metadata": {},
   "outputs": [
    {
     "data": {
      "text/plain": [
       "['C_opt',\n",
       " 'psi_opt',\n",
       " 'converged',\n",
       " 'iter_num',\n",
       " 'E_opt',\n",
       " 'E_list',\n",
       " 'C_list',\n",
       " 'psi_list',\n",
       " 'rdm_list',\n",
       " 'runtime',\n",
       " 'b_len',\n",
       " 'S2_val',\n",
       " 'rhr_boost_e_tot',\n",
       " 'rhr_boost_mo_coeff',\n",
       " 'rhr_boost_rdm1']"
      ]
     },
     "execution_count": 11,
     "metadata": {},
     "output_type": "execute_result"
    }
   ],
   "source": [
    "list(data['maxcut'].keys())"
   ]
  },
  {
   "cell_type": "code",
   "execution_count": 16,
   "metadata": {},
   "outputs": [],
   "source": [
    "S2_val = data['maxcut']['S2_val']\n",
    "\n",
    "Energy_list = data['maxcut']['E_list']\n",
    "C_list = data['maxcut']['C_list']  # <--- describes MO basis for Hamiltonian at each iteration step\n",
    "\n",
    "S2_val = data['maxcut']['S2_val']\n",
    "E_final = data['maxcut']['E_opt']\n",
    "runtime = data['maxcut']['runtime']"
   ]
  },
  {
   "cell_type": "code",
   "execution_count": null,
   "metadata": {},
   "outputs": [],
   "source": []
  },
  {
   "cell_type": "code",
   "execution_count": null,
   "metadata": {},
   "outputs": [],
   "source": [
    " "
   ]
  },
  {
   "cell_type": "code",
   "execution_count": null,
   "metadata": {},
   "outputs": [],
   "source": []
  }
 ],
 "metadata": {
  "kernelspec": {
   "display_name": "Python 3 (ipykernel)",
   "language": "python",
   "name": "python3"
  },
  "language_info": {
   "codemirror_mode": {
    "name": "ipython",
    "version": 3
   },
   "file_extension": ".py",
   "mimetype": "text/x-python",
   "name": "python",
   "nbconvert_exporter": "python",
   "pygments_lexer": "ipython3",
   "version": "3.10.18"
  }
 },
 "nbformat": 4,
 "nbformat_minor": 4
}
